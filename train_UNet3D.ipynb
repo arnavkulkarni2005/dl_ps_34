{
 "cells": [
  {
   "attachments": {},
   "cell_type": "markdown",
   "metadata": {},
   "source": [
    "# UNet 2D\n",
    "\n",
    "***"
   ]
  },
  {
   "attachments": {},
   "cell_type": "markdown",
   "metadata": {},
   "source": [
    "## _1. Imports_"
   ]
  },
  {
   "cell_type": "code",
   "execution_count": 1,
   "metadata": {},
   "outputs": [],
   "source": [
    "from unet import UNet3D\n",
    "from src.datasets.Nii_Gz_Dataset_3D import Dataset_NiiGz_3D\n",
    "from src.utils.Experiment import Experiment\n",
    "import torch\n",
    "from src.losses.LossFunctions import DiceBCELoss\n",
    "from src.agents.Agent_UNet import Agent"
   ]
  },
  {
   "attachments": {},
   "cell_type": "markdown",
   "metadata": {},
   "source": [
    "## _2. Configure experiment_\n",
    "- __AutoReload__\n",
    "    - If an experiment already exists in _model\\_path_ the config will __always__ be overwritten with the existing one\n",
    "    - Additionally if the model has been saved previously, this state will be reloaded\n",
    "- Download _hippocampus_ data from 'http://medicaldecathlon.com/' and adapt 'img_path' and 'label_path'"
   ]
  },
  {
   "cell_type": "code",
   "execution_count": 2,
   "metadata": {},
   "outputs": [],
   "source": [
    "config = [{\n",
    "    'img_path': r\"image_path\",\n",
    "    'label_path': r\"label_path\",\n",
    "    'model_path': r'Models/UNet3D_Run1',\n",
    "    'device':\"cuda:0\",\n",
    "    # Learning rate\n",
    "    'lr': 1e-4,\n",
    "    'lr_gamma': 0.9999,\n",
    "    'betas': (0.9, 0.99),\n",
    "    # Training config\n",
    "    'save_interval': 100,\n",
    "    'evaluate_interval': 10,\n",
    "    'n_epoch': 1000,\n",
    "    'batch_size': 2,\n",
    "    # Data\n",
    "    'input_size': (64, 64, 48),\n",
    "    'data_split': [0.7, 0, 0.3], \n",
    "\n",
    "}]"
   ]
  },
  {
   "attachments": {},
   "cell_type": "markdown",
   "metadata": {},
   "source": [
    "## _3. Choose architecture, dataset and training agent_\n",
    "\n",
    "- _Dataset\\_Nii\\_Gz\\_3D_ loads 3D files. If you pass a _slice_ it will be split along the according axis."
   ]
  },
  {
   "cell_type": "code",
   "execution_count": 3,
   "metadata": {},
   "outputs": [
    {
     "name": "stdout",
     "output_type": "stream",
     "text": [
      "(64, 64, 48)\n",
      "In basic configuration threads are limited to 1 to limit CPU usage on shared Server. Add 'unlock_CPU:True' to config to disable that.\n",
      "Datasplit-> train entries: 139, val entries: 0, test entries: 59\n",
      "Datasplit-> train entries: 139, val entries: 0, test entries: 59\n",
      "19071297\n"
     ]
    }
   ],
   "source": [
    "# Define Experiment\n",
    "dataset = Dataset_NiiGz_3D()\n",
    "device = torch.device(config[0]['device'])\n",
    "ca = UNet3D(in_channels=1, padding=1, out_classes=1).to(device)\n",
    "agent = Agent(ca)\n",
    "exp = Experiment(config, dataset, ca, agent)\n",
    "exp.set_model_state('train')\n",
    "dataset.set_experiment(exp)\n",
    "data_loader = torch.utils.data.DataLoader(dataset, shuffle=True, batch_size=exp.get_from_config('batch_size'))\n",
    "loss_function = DiceBCELoss() \n",
    "\n",
    "# Number of parameters\n",
    "print(sum(p.numel() for p in ca.parameters() if p.requires_grad))"
   ]
  },
  {
   "attachments": {},
   "cell_type": "markdown",
   "metadata": {},
   "source": [
    "## _4. Run training_"
   ]
  },
  {
   "cell_type": "code",
   "execution_count": 4,
   "metadata": {},
   "outputs": [
    {
     "name": "stdout",
     "output_type": "stream",
     "text": [
      "Epoch: 1\n",
      "Dataset size: 70\n"
     ]
    },
    {
     "name": "stderr",
     "output_type": "stream",
     "text": [
      "/home/jkalkhof_locale/anaconda3/envs/NCA/lib/python3.8/site-packages/unet/decoding.py:146: UserWarning: __floordiv__ is deprecated, and its behavior will change in a future version of pytorch. It currently rounds toward 0 (like the 'trunc' function NOT 'floor'). This results in incorrect rounding for negative values. To keep the current behavior, use torch.div(a, b, rounding_mode='trunc'), or for actual floor division, use torch.div(a, b, rounding_mode='floor').\n",
      "  half_crop = crop // 2\n"
     ]
    },
    {
     "name": "stdout",
     "output_type": "stream",
     "text": [
      "1 loss = 1.0917710176536015\n",
      "Epoch: 2\n",
      "Dataset size: 70\n",
      "2 loss = 0.9573260486125946\n",
      "Epoch: 3\n",
      "Dataset size: 70\n",
      "3 loss = 0.8922339703355516\n",
      "Epoch: 4\n",
      "Dataset size: 70\n"
     ]
    },
    {
     "ename": "KeyboardInterrupt",
     "evalue": "",
     "output_type": "error",
     "traceback": [
      "\u001b[0;31m---------------------------------------------------------------------------\u001b[0m",
      "\u001b[0;31mKeyboardInterrupt\u001b[0m                         Traceback (most recent call last)",
      "\u001b[1;32m/home/jkalkhof_locale/Documents/GitHub/NCA/train_UNet3D.ipynb Cell 9\u001b[0m in \u001b[0;36m<cell line: 1>\u001b[0;34m()\u001b[0m\n\u001b[0;32m----> <a href='vscode-notebook-cell://ssh-remote%2B7b22686f73744e616d65223a22504333313130227d/home/jkalkhof_locale/Documents/GitHub/NCA/train_UNet3D.ipynb#X11sdnNjb2RlLXJlbW90ZQ%3D%3D?line=0'>1</a>\u001b[0m agent\u001b[39m.\u001b[39;49mtrain(data_loader, loss_function)\n",
      "File \u001b[0;32m~/Documents/GitHub/NCA/src/agents/Agent.py:190\u001b[0m, in \u001b[0;36mBaseAgent.train\u001b[0;34m(self, dataloader, loss_f)\u001b[0m\n\u001b[1;32m    188\u001b[0m \u001b[39mprint\u001b[39m(\u001b[39m'\u001b[39m\u001b[39mDataset size: \u001b[39m\u001b[39m'\u001b[39m \u001b[39m+\u001b[39m \u001b[39mstr\u001b[39m(\u001b[39mlen\u001b[39m(dataloader)))\n\u001b[1;32m    189\u001b[0m \u001b[39mfor\u001b[39;00m i, data \u001b[39min\u001b[39;00m \u001b[39menumerate\u001b[39m(dataloader):\n\u001b[0;32m--> 190\u001b[0m     loss_item \u001b[39m=\u001b[39m \u001b[39mself\u001b[39;49m\u001b[39m.\u001b[39;49mbatch_step(data, loss_f)\n\u001b[1;32m    191\u001b[0m     \u001b[39mfor\u001b[39;00m key \u001b[39min\u001b[39;00m loss_item\u001b[39m.\u001b[39mkeys():\n\u001b[1;32m    192\u001b[0m         loss_log[key]\u001b[39m.\u001b[39mappend(loss_item[key])\n",
      "File \u001b[0;32m~/Documents/GitHub/NCA/src/agents/Agent.py:83\u001b[0m, in \u001b[0;36mBaseAgent.batch_step\u001b[0;34m(self, data, loss_f)\u001b[0m\n\u001b[1;32m     75\u001b[0m \u001b[39mdef\u001b[39;00m \u001b[39mbatch_step\u001b[39m(\u001b[39mself\u001b[39m, data, loss_f):\n\u001b[1;32m     76\u001b[0m     \u001b[39mr\u001b[39m\u001b[39m\"\"\"Execute a single batch training step\u001b[39;00m\n\u001b[1;32m     77\u001b[0m \u001b[39m        #Args\u001b[39;00m\n\u001b[1;32m     78\u001b[0m \u001b[39m            data (tensor, tensor): inputs, targets\u001b[39;00m\n\u001b[0;32m   (...)\u001b[0m\n\u001b[1;32m     81\u001b[0m \u001b[39m            loss item\u001b[39;00m\n\u001b[1;32m     82\u001b[0m \u001b[39m    \"\"\"\u001b[39;00m\n\u001b[0;32m---> 83\u001b[0m     data \u001b[39m=\u001b[39m \u001b[39mself\u001b[39;49m\u001b[39m.\u001b[39;49mprepare_data(data)\n\u001b[1;32m     84\u001b[0m     outputs, targets \u001b[39m=\u001b[39m \u001b[39mself\u001b[39m\u001b[39m.\u001b[39mget_outputs(data)\n\u001b[1;32m     85\u001b[0m     \u001b[39mself\u001b[39m\u001b[39m.\u001b[39moptimizer\u001b[39m.\u001b[39mzero_grad()\n",
      "File \u001b[0;32m~/Documents/GitHub/NCA/src/agents/Agent_UNet.py:22\u001b[0m, in \u001b[0;36mAgent.prepare_data\u001b[0;34m(self, data, eval)\u001b[0m\n\u001b[1;32m     20\u001b[0m \u001b[39mid\u001b[39m, inputs, targets \u001b[39m=\u001b[39m data\n\u001b[1;32m     21\u001b[0m inputs, targets \u001b[39m=\u001b[39m inputs\u001b[39m.\u001b[39mtype(torch\u001b[39m.\u001b[39mFloatTensor), targets\u001b[39m.\u001b[39mtype(torch\u001b[39m.\u001b[39mFloatTensor)\n\u001b[0;32m---> 22\u001b[0m inputs, targets \u001b[39m=\u001b[39m inputs\u001b[39m.\u001b[39;49mto(\u001b[39mself\u001b[39;49m\u001b[39m.\u001b[39;49mdevice), targets\u001b[39m.\u001b[39mto(\u001b[39mself\u001b[39m\u001b[39m.\u001b[39mdevice)\n\u001b[1;32m     23\u001b[0m \u001b[39mif\u001b[39;00m \u001b[39mself\u001b[39m\u001b[39m.\u001b[39mexp\u001b[39m.\u001b[39mdataset\u001b[39m.\u001b[39mslice \u001b[39mis\u001b[39;00m \u001b[39mNone\u001b[39;00m:\n\u001b[1;32m     24\u001b[0m     inputs, targets \u001b[39m=\u001b[39m torch\u001b[39m.\u001b[39munsqueeze(inputs, \u001b[39m1\u001b[39m), targets \u001b[39m#torch.unsqueeze(targets, 1) \u001b[39;00m\n",
      "\u001b[0;31mKeyboardInterrupt\u001b[0m: "
     ]
    }
   ],
   "source": [
    "agent.train(data_loader, loss_function)"
   ]
  },
  {
   "attachments": {},
   "cell_type": "markdown",
   "metadata": {},
   "source": [
    "## _5. Evaluate test data_"
   ]
  },
  {
   "cell_type": "code",
   "execution_count": null,
   "metadata": {},
   "outputs": [],
   "source": [
    "agent.getAverageDiceScore()"
   ]
  }
 ],
 "metadata": {
  "kernelspec": {
   "display_name": "NCA",
   "language": "python",
   "name": "python3"
  },
  "language_info": {
   "codemirror_mode": {
    "name": "ipython",
    "version": 3
   },
   "file_extension": ".py",
   "mimetype": "text/x-python",
   "name": "python",
   "nbconvert_exporter": "python",
   "pygments_lexer": "ipython3",
   "version": "3.8.13"
  },
  "orig_nbformat": 4
 },
 "nbformat": 4,
 "nbformat_minor": 2
}
