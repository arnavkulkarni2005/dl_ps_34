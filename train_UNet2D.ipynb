{
 "cells": [
  {
   "attachments": {},
   "cell_type": "markdown",
   "metadata": {},
   "source": [
    "# UNet 2D\n",
    "\n",
    "***"
   ]
  },
  {
   "attachments": {},
   "cell_type": "markdown",
   "metadata": {},
   "source": [
    "## _1. Imports_"
   ]
  },
  {
   "cell_type": "code",
   "execution_count": 1,
   "metadata": {},
   "outputs": [],
   "source": [
    "from unet import UNet2D\n",
    "from src.datasets.Nii_Gz_Dataset_3D import Dataset_NiiGz_3D\n",
    "from src.utils.Experiment import Experiment\n",
    "import torch\n",
    "from src.losses.LossFunctions import DiceBCELoss\n",
    "from src.agents.Agent_UNet import Agent "
   ]
  },
  {
   "attachments": {},
   "cell_type": "markdown",
   "metadata": {},
   "source": [
    "## _2. Configure experiment_\n",
    "- __AutoReload__\n",
    "    - If an experiment already exists in _model\\_path_ the config will __always__ be overwritten with the existing one\n",
    "    - Additionally if the model has been saved previously, this state will be reloaded\n",
    "- Download _hippocampus_ data from 'http://medicaldecathlon.com/' and adapt 'img_path' and 'label_path'"
   ]
  },
  {
   "cell_type": "code",
   "execution_count": 2,
   "metadata": {},
   "outputs": [],
   "source": [
    "config = [{\n",
    "    'img_path': r\"image_path\",\n",
    "    'label_path': r\"label_path\",\n",
    "    'model_path': r'Models/UNet2D_Run1',\n",
    "    'device':\"cuda:0\",\n",
    "    # Learning rate\n",
    "    'lr': 1e-4,\n",
    "    'lr_gamma': 0.9999,\n",
    "    'betas': (0.9, 0.99),\n",
    "    # Training config\n",
    "    'save_interval': 100,\n",
    "    'evaluate_interval': 10,\n",
    "    'n_epoch': 1000,\n",
    "    'batch_size': 100,\n",
    "    # Data\n",
    "    'input_size': (64, 64),\n",
    "    'data_split': [0.7, 0, 0.3], \n",
    "}]"
   ]
  },
  {
   "attachments": {},
   "cell_type": "markdown",
   "metadata": {},
   "source": [
    "## _3. Choose architecture, dataset and training agent_\n",
    "\n",
    "- _Dataset\\_Nii\\_Gz\\_3D_ loads 3D files. If you pass a _slice_ it will be split along the according axis."
   ]
  },
  {
   "cell_type": "code",
   "execution_count": 3,
   "metadata": {},
   "outputs": [
    {
     "name": "stdout",
     "output_type": "stream",
     "text": [
      "(64, 64)\n",
      "In basic configuration threads are limited to 1 to limit CPU usage on shared Server. Add 'unlock_CPU:True' to config to disable that.\n",
      "/home/jkalkhof_locale/Documents/Models/UNet2D_Run2/data_split.dt\n",
      "/home/jkalkhof_locale/Documents/Models/UNet2D_Run2/models/epoch_0\n",
      "36950273\n"
     ]
    }
   ],
   "source": [
    "# Define Experiment\n",
    "dataset = Dataset_NiiGz_3D(slice=2)\n",
    "device = torch.device(config[0]['device'])\n",
    "ca = UNet2D(in_channels=1, padding=1, out_classes=1).to(device)\n",
    "agent = Agent(ca)\n",
    "exp = Experiment(config, dataset, ca, agent)\n",
    "exp.set_model_state('train')\n",
    "dataset.set_experiment(exp)\n",
    "data_loader = torch.utils.data.DataLoader(dataset, shuffle=True, batch_size=exp.get_from_config('batch_size'))\n",
    "loss_function = DiceBCELoss() \n",
    "\n",
    "# Number of parameters\n",
    "print(sum(p.numel() for p in ca.parameters() if p.requires_grad))"
   ]
  },
  {
   "attachments": {},
   "cell_type": "markdown",
   "metadata": {},
   "source": [
    "## _4. Run training_"
   ]
  },
  {
   "cell_type": "code",
   "execution_count": 4,
   "metadata": {},
   "outputs": [
    {
     "name": "stdout",
     "output_type": "stream",
     "text": [
      "Epoch: 1\n",
      "Dataset size: 50\n"
     ]
    },
    {
     "name": "stderr",
     "output_type": "stream",
     "text": [
      "/home/jkalkhof_locale/anaconda3/envs/NCA/lib/python3.8/site-packages/unet/decoding.py:146: UserWarning: __floordiv__ is deprecated, and its behavior will change in a future version of pytorch. It currently rounds toward 0 (like the 'trunc' function NOT 'floor'). This results in incorrect rounding for negative values. To keep the current behavior, use torch.div(a, b, rounding_mode='trunc'), or for actual floor division, use torch.div(a, b, rounding_mode='floor').\n",
      "  half_crop = crop // 2\n"
     ]
    },
    {
     "name": "stdout",
     "output_type": "stream",
     "text": [
      "1 loss = 1.3361732411384581\n",
      "Epoch: 2\n",
      "Dataset size: 50\n",
      "2 loss = 1.0679548108577728\n",
      "Epoch: 3\n",
      "Dataset size: 50\n"
     ]
    },
    {
     "ename": "KeyboardInterrupt",
     "evalue": "",
     "output_type": "error",
     "traceback": [
      "\u001b[0;31m---------------------------------------------------------------------------\u001b[0m",
      "\u001b[0;31mKeyboardInterrupt\u001b[0m                         Traceback (most recent call last)",
      "\u001b[1;32m/home/jkalkhof_locale/Documents/GitHub/NCA/train_UNet2D.ipynb Cell 9\u001b[0m in \u001b[0;36m<cell line: 1>\u001b[0;34m()\u001b[0m\n\u001b[0;32m----> <a href='vscode-notebook-cell://ssh-remote%2B7b22686f73744e616d65223a22504333313130227d/home/jkalkhof_locale/Documents/GitHub/NCA/train_UNet2D.ipynb#X12sdnNjb2RlLXJlbW90ZQ%3D%3D?line=0'>1</a>\u001b[0m agent\u001b[39m.\u001b[39;49mtrain(data_loader, loss_function)\n",
      "File \u001b[0;32m~/Documents/GitHub/NCA/src/agents/Agent.py:189\u001b[0m, in \u001b[0;36mBaseAgent.train\u001b[0;34m(self, dataloader, loss_f)\u001b[0m\n\u001b[1;32m    187\u001b[0m \u001b[39mself\u001b[39m\u001b[39m.\u001b[39minitialize_epoch()\n\u001b[1;32m    188\u001b[0m \u001b[39mprint\u001b[39m(\u001b[39m'\u001b[39m\u001b[39mDataset size: \u001b[39m\u001b[39m'\u001b[39m \u001b[39m+\u001b[39m \u001b[39mstr\u001b[39m(\u001b[39mlen\u001b[39m(dataloader)))\n\u001b[0;32m--> 189\u001b[0m \u001b[39mfor\u001b[39;00m i, data \u001b[39min\u001b[39;00m \u001b[39menumerate\u001b[39m(dataloader):\n\u001b[1;32m    190\u001b[0m     loss_item \u001b[39m=\u001b[39m \u001b[39mself\u001b[39m\u001b[39m.\u001b[39mbatch_step(data, loss_f)\n\u001b[1;32m    191\u001b[0m     \u001b[39mfor\u001b[39;00m key \u001b[39min\u001b[39;00m loss_item\u001b[39m.\u001b[39mkeys():\n",
      "File \u001b[0;32m~/anaconda3/envs/NCA/lib/python3.8/site-packages/torch/utils/data/dataloader.py:681\u001b[0m, in \u001b[0;36m_BaseDataLoaderIter.__next__\u001b[0;34m(self)\u001b[0m\n\u001b[1;32m    678\u001b[0m \u001b[39mif\u001b[39;00m \u001b[39mself\u001b[39m\u001b[39m.\u001b[39m_sampler_iter \u001b[39mis\u001b[39;00m \u001b[39mNone\u001b[39;00m:\n\u001b[1;32m    679\u001b[0m     \u001b[39m# TODO(https://github.com/pytorch/pytorch/issues/76750)\u001b[39;00m\n\u001b[1;32m    680\u001b[0m     \u001b[39mself\u001b[39m\u001b[39m.\u001b[39m_reset()  \u001b[39m# type: ignore[call-arg]\u001b[39;00m\n\u001b[0;32m--> 681\u001b[0m data \u001b[39m=\u001b[39m \u001b[39mself\u001b[39;49m\u001b[39m.\u001b[39;49m_next_data()\n\u001b[1;32m    682\u001b[0m \u001b[39mself\u001b[39m\u001b[39m.\u001b[39m_num_yielded \u001b[39m+\u001b[39m\u001b[39m=\u001b[39m \u001b[39m1\u001b[39m\n\u001b[1;32m    683\u001b[0m \u001b[39mif\u001b[39;00m \u001b[39mself\u001b[39m\u001b[39m.\u001b[39m_dataset_kind \u001b[39m==\u001b[39m _DatasetKind\u001b[39m.\u001b[39mIterable \u001b[39mand\u001b[39;00m \\\n\u001b[1;32m    684\u001b[0m         \u001b[39mself\u001b[39m\u001b[39m.\u001b[39m_IterableDataset_len_called \u001b[39mis\u001b[39;00m \u001b[39mnot\u001b[39;00m \u001b[39mNone\u001b[39;00m \u001b[39mand\u001b[39;00m \\\n\u001b[1;32m    685\u001b[0m         \u001b[39mself\u001b[39m\u001b[39m.\u001b[39m_num_yielded \u001b[39m>\u001b[39m \u001b[39mself\u001b[39m\u001b[39m.\u001b[39m_IterableDataset_len_called:\n",
      "File \u001b[0;32m~/anaconda3/envs/NCA/lib/python3.8/site-packages/torch/utils/data/dataloader.py:721\u001b[0m, in \u001b[0;36m_SingleProcessDataLoaderIter._next_data\u001b[0;34m(self)\u001b[0m\n\u001b[1;32m    719\u001b[0m \u001b[39mdef\u001b[39;00m \u001b[39m_next_data\u001b[39m(\u001b[39mself\u001b[39m):\n\u001b[1;32m    720\u001b[0m     index \u001b[39m=\u001b[39m \u001b[39mself\u001b[39m\u001b[39m.\u001b[39m_next_index()  \u001b[39m# may raise StopIteration\u001b[39;00m\n\u001b[0;32m--> 721\u001b[0m     data \u001b[39m=\u001b[39m \u001b[39mself\u001b[39;49m\u001b[39m.\u001b[39;49m_dataset_fetcher\u001b[39m.\u001b[39;49mfetch(index)  \u001b[39m# may raise StopIteration\u001b[39;00m\n\u001b[1;32m    722\u001b[0m     \u001b[39mif\u001b[39;00m \u001b[39mself\u001b[39m\u001b[39m.\u001b[39m_pin_memory:\n\u001b[1;32m    723\u001b[0m         data \u001b[39m=\u001b[39m _utils\u001b[39m.\u001b[39mpin_memory\u001b[39m.\u001b[39mpin_memory(data, \u001b[39mself\u001b[39m\u001b[39m.\u001b[39m_pin_memory_device)\n",
      "File \u001b[0;32m~/anaconda3/envs/NCA/lib/python3.8/site-packages/torch/utils/data/_utils/fetch.py:49\u001b[0m, in \u001b[0;36m_MapDatasetFetcher.fetch\u001b[0;34m(self, possibly_batched_index)\u001b[0m\n\u001b[1;32m     47\u001b[0m \u001b[39mdef\u001b[39;00m \u001b[39mfetch\u001b[39m(\u001b[39mself\u001b[39m, possibly_batched_index):\n\u001b[1;32m     48\u001b[0m     \u001b[39mif\u001b[39;00m \u001b[39mself\u001b[39m\u001b[39m.\u001b[39mauto_collation:\n\u001b[0;32m---> 49\u001b[0m         data \u001b[39m=\u001b[39m [\u001b[39mself\u001b[39m\u001b[39m.\u001b[39mdataset[idx] \u001b[39mfor\u001b[39;00m idx \u001b[39min\u001b[39;00m possibly_batched_index]\n\u001b[1;32m     50\u001b[0m     \u001b[39melse\u001b[39;00m:\n\u001b[1;32m     51\u001b[0m         data \u001b[39m=\u001b[39m \u001b[39mself\u001b[39m\u001b[39m.\u001b[39mdataset[possibly_batched_index]\n",
      "File \u001b[0;32m~/anaconda3/envs/NCA/lib/python3.8/site-packages/torch/utils/data/_utils/fetch.py:49\u001b[0m, in \u001b[0;36m<listcomp>\u001b[0;34m(.0)\u001b[0m\n\u001b[1;32m     47\u001b[0m \u001b[39mdef\u001b[39;00m \u001b[39mfetch\u001b[39m(\u001b[39mself\u001b[39m, possibly_batched_index):\n\u001b[1;32m     48\u001b[0m     \u001b[39mif\u001b[39;00m \u001b[39mself\u001b[39m\u001b[39m.\u001b[39mauto_collation:\n\u001b[0;32m---> 49\u001b[0m         data \u001b[39m=\u001b[39m [\u001b[39mself\u001b[39;49m\u001b[39m.\u001b[39;49mdataset[idx] \u001b[39mfor\u001b[39;00m idx \u001b[39min\u001b[39;00m possibly_batched_index]\n\u001b[1;32m     50\u001b[0m     \u001b[39melse\u001b[39;00m:\n\u001b[1;32m     51\u001b[0m         data \u001b[39m=\u001b[39m \u001b[39mself\u001b[39m\u001b[39m.\u001b[39mdataset[possibly_batched_index]\n",
      "File \u001b[0;32m~/Documents/GitHub/NCA/src/datasets/Nii_Gz_Dataset_3D.py:280\u001b[0m, in \u001b[0;36mDataset_NiiGz_3D.__getitem__\u001b[0;34m(self, idx)\u001b[0m\n\u001b[1;32m    277\u001b[0m \u001b[39mif\u001b[39;00m np\u001b[39m.\u001b[39msum(img) \u001b[39m>\u001b[39m \u001b[39m0\u001b[39m:\n\u001b[1;32m    278\u001b[0m     img \u001b[39m=\u001b[39m znormalisation(img)\n\u001b[0;32m--> 280\u001b[0m img \u001b[39m=\u001b[39m rescale(img) \n\u001b[1;32m    281\u001b[0m img \u001b[39m=\u001b[39m img[\u001b[39m0\u001b[39m]\n\u001b[1;32m    282\u001b[0m img[img \u001b[39m==\u001b[39m \u001b[39m0\u001b[39m] \u001b[39m=\u001b[39m \u001b[39m0.0001\u001b[39m \n",
      "File \u001b[0;32m~/anaconda3/envs/NCA/lib/python3.8/site-packages/torchio/transforms/transform.py:151\u001b[0m, in \u001b[0;36mTransform.__call__\u001b[0;34m(self, data)\u001b[0m\n\u001b[1;32m    149\u001b[0m     subject \u001b[39m=\u001b[39m copy\u001b[39m.\u001b[39mcopy(subject)\n\u001b[1;32m    150\u001b[0m \u001b[39mwith\u001b[39;00m np\u001b[39m.\u001b[39merrstate(\u001b[39mall\u001b[39m\u001b[39m=\u001b[39m\u001b[39m'\u001b[39m\u001b[39mraise\u001b[39m\u001b[39m'\u001b[39m, under\u001b[39m=\u001b[39m\u001b[39m'\u001b[39m\u001b[39mignore\u001b[39m\u001b[39m'\u001b[39m):\n\u001b[0;32m--> 151\u001b[0m     transformed \u001b[39m=\u001b[39m \u001b[39mself\u001b[39;49m\u001b[39m.\u001b[39;49mapply_transform(subject)\n\u001b[1;32m    152\u001b[0m \u001b[39mif\u001b[39;00m \u001b[39mself\u001b[39m\u001b[39m.\u001b[39mkeep \u001b[39mis\u001b[39;00m \u001b[39mnot\u001b[39;00m \u001b[39mNone\u001b[39;00m:\n\u001b[1;32m    153\u001b[0m     \u001b[39mfor\u001b[39;00m name, image \u001b[39min\u001b[39;00m images_to_keep\u001b[39m.\u001b[39mitems():\n",
      "File \u001b[0;32m~/anaconda3/envs/NCA/lib/python3.8/site-packages/torchio/transforms/preprocessing/intensity/normalization_transform.py:48\u001b[0m, in \u001b[0;36mNormalizationTransform.apply_transform\u001b[0;34m(self, subject)\u001b[0m\n\u001b[1;32m     46\u001b[0m \u001b[39mdef\u001b[39;00m \u001b[39mapply_transform\u001b[39m(\u001b[39mself\u001b[39m, subject: Subject) \u001b[39m-\u001b[39m\u001b[39m>\u001b[39m Subject:\n\u001b[1;32m     47\u001b[0m     \u001b[39mfor\u001b[39;00m image_name, image \u001b[39min\u001b[39;00m \u001b[39mself\u001b[39m\u001b[39m.\u001b[39mget_images_dict(subject)\u001b[39m.\u001b[39mitems():\n\u001b[0;32m---> 48\u001b[0m         mask \u001b[39m=\u001b[39m \u001b[39mself\u001b[39;49m\u001b[39m.\u001b[39;49mget_mask_from_masking_method(\n\u001b[1;32m     49\u001b[0m             \u001b[39mself\u001b[39;49m\u001b[39m.\u001b[39;49mmasking_method,\n\u001b[1;32m     50\u001b[0m             subject,\n\u001b[1;32m     51\u001b[0m             image\u001b[39m.\u001b[39;49mdata,\n\u001b[1;32m     52\u001b[0m         )\n\u001b[1;32m     53\u001b[0m         \u001b[39mself\u001b[39m\u001b[39m.\u001b[39mapply_normalization(subject, image_name, mask)\n\u001b[1;32m     54\u001b[0m     \u001b[39mreturn\u001b[39;00m subject\n",
      "File \u001b[0;32m~/anaconda3/envs/NCA/lib/python3.8/site-packages/torchio/transforms/transform.py:468\u001b[0m, in \u001b[0;36mTransform.get_mask_from_masking_method\u001b[0;34m(self, masking_method, subject, tensor, labels)\u001b[0m\n\u001b[1;32m    460\u001b[0m \u001b[39mdef\u001b[39;00m \u001b[39mget_mask_from_masking_method\u001b[39m(\n\u001b[1;32m    461\u001b[0m         \u001b[39mself\u001b[39m,\n\u001b[1;32m    462\u001b[0m         masking_method: TypeMaskingMethod,\n\u001b[0;32m   (...)\u001b[0m\n\u001b[1;32m    465\u001b[0m         labels: Optional[Sequence[\u001b[39mint\u001b[39m]] \u001b[39m=\u001b[39m \u001b[39mNone\u001b[39;00m,\n\u001b[1;32m    466\u001b[0m ) \u001b[39m-\u001b[39m\u001b[39m>\u001b[39m torch\u001b[39m.\u001b[39mTensor:\n\u001b[1;32m    467\u001b[0m     \u001b[39mif\u001b[39;00m masking_method \u001b[39mis\u001b[39;00m \u001b[39mNone\u001b[39;00m:\n\u001b[0;32m--> 468\u001b[0m         \u001b[39mreturn\u001b[39;00m \u001b[39mself\u001b[39;49m\u001b[39m.\u001b[39;49mones(tensor)\n\u001b[1;32m    469\u001b[0m     \u001b[39melif\u001b[39;00m callable(masking_method):\n\u001b[1;32m    470\u001b[0m         \u001b[39mreturn\u001b[39;00m masking_method(tensor)\n",
      "File \u001b[0;32m~/anaconda3/envs/NCA/lib/python3.8/site-packages/torchio/transforms/transform.py:453\u001b[0m, in \u001b[0;36mTransform.ones\u001b[0;34m(tensor)\u001b[0m\n\u001b[1;32m    451\u001b[0m \u001b[39m@staticmethod\u001b[39m\n\u001b[1;32m    452\u001b[0m \u001b[39mdef\u001b[39;00m \u001b[39mones\u001b[39m(tensor: torch\u001b[39m.\u001b[39mTensor) \u001b[39m-\u001b[39m\u001b[39m>\u001b[39m torch\u001b[39m.\u001b[39mTensor:\n\u001b[0;32m--> 453\u001b[0m     \u001b[39mreturn\u001b[39;00m torch\u001b[39m.\u001b[39;49mones_like(tensor, dtype\u001b[39m=\u001b[39;49mtorch\u001b[39m.\u001b[39;49mbool)\n",
      "\u001b[0;31mKeyboardInterrupt\u001b[0m: "
     ]
    }
   ],
   "source": [
    "agent.train(data_loader, loss_function)"
   ]
  },
  {
   "attachments": {},
   "cell_type": "markdown",
   "metadata": {},
   "source": [
    "## _5. Evaluate test data_"
   ]
  },
  {
   "cell_type": "code",
   "execution_count": null,
   "metadata": {},
   "outputs": [],
   "source": [
    "agent.getAverageDiceScore()"
   ]
  }
 ],
 "metadata": {
  "kernelspec": {
   "display_name": "NCA",
   "language": "python",
   "name": "python3"
  },
  "language_info": {
   "codemirror_mode": {
    "name": "ipython",
    "version": 3
   },
   "file_extension": ".py",
   "mimetype": "text/x-python",
   "name": "python",
   "nbconvert_exporter": "python",
   "pygments_lexer": "ipython3",
   "version": "3.8.13"
  },
  "orig_nbformat": 4
 },
 "nbformat": 4,
 "nbformat_minor": 2
}
