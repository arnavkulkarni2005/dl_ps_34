{
 "cells": [
  {
   "attachments": {},
   "cell_type": "markdown",
   "metadata": {},
   "source": [
    "# Med-NCA: Robust and Lightweight Segmentation with Neural Cellular Automata \n",
    "### John Kalkhof, Camila González, Anirban Mukhopadhyay\n",
    "__https://arxiv.org/pdf/2302.03473.pdf__\n",
    "\n",
    "\n",
    "\n",
    "***"
   ]
  },
  {
   "attachments": {},
   "cell_type": "markdown",
   "metadata": {},
   "source": [
    "## __The Backbone Model__\n",
    "<div>\n",
    "<img src=\"src/images/backbone_model_MedNCA.png\" width=\"200\"/>\n",
    "</div>"
   ]
  },
  {
   "attachments": {},
   "cell_type": "markdown",
   "metadata": {},
   "source": [
    "## _1. Imports_"
   ]
  },
  {
   "cell_type": "code",
   "execution_count": 1,
   "metadata": {},
   "outputs": [],
   "source": [
    "import torch\n",
    "from src.datasets.Nii_Gz_Dataset_3D import Dataset_NiiGz_3D\n",
    "from src.models.Model_BackboneNCA import BackboneNCA\n",
    "from src.losses.LossFunctions import DiceBCELoss\n",
    "from src.utils.Experiment import Experiment\n",
    "from src.agents.Agent_NCA import Agent_NCA"
   ]
  },
  {
   "attachments": {},
   "cell_type": "markdown",
   "metadata": {},
   "source": [
    "## _2. Configure experiment_\n",
    "- __AutoReload__\n",
    "    - If an experiment already exists in _model\\_path_ the config will __always__ be overwritten with the existing one\n",
    "    - Additionally if the model has been saved previously, this state will be reloaded\n",
    "- Download _hippocampus_ data from 'http://medicaldecathlon.com/' and adapt 'img_path' and 'label_path'"
   ]
  },
  {
   "cell_type": "code",
   "execution_count": 2,
   "metadata": {},
   "outputs": [],
   "source": [
    "config = [{\n",
    "    # Basic\n",
    "    'img_path': r\"image_path\",\n",
    "    'label_path': r\"label_path\",\n",
    "    'name': r'Backbone2D_Run1',\n",
    "    'device':\"cuda:0\",\n",
    "    'unlock_CPU': True,\n",
    "    # Optimizer\n",
    "    'lr': 16e-4,\n",
    "    'lr_gamma': 0.9999,\n",
    "    'betas': (0.5, 0.5),\n",
    "    # Training\n",
    "    'save_interval': 10,\n",
    "    'evaluate_interval': 10,\n",
    "    'n_epoch': 1000,\n",
    "    'batch_size': 48,\n",
    "    # Model\n",
    "    'channel_n': 16,        # Number of CA state channels\n",
    "    'inference_steps': 64,\n",
    "    'cell_fire_rate': 0.5,\n",
    "    'input_channels': 1,\n",
    "    'output_channels': 1,\n",
    "    'hidden_size': 128,\n",
    "    # Data\n",
    "    'input_size': (64, 64),\n",
    "    'data_split': [0.7, 0, 0.3], \n",
    "}\n",
    "]"
   ]
  },
  {
   "attachments": {},
   "cell_type": "markdown",
   "metadata": {},
   "source": [
    "## _3. Choose architecture, dataset and training agent_\n",
    "\n",
    "- _Dataset\\_Nii\\_Gz\\_3D_ loads 3D files. If you pass a _slice_ it will be split along the according axis."
   ]
  },
  {
   "cell_type": "code",
   "execution_count": 3,
   "metadata": {},
   "outputs": [
    {
     "name": "stdout",
     "output_type": "stream",
     "text": [
      "(64, 64)\n"
     ]
    },
    {
     "ename": "FileNotFoundError",
     "evalue": "[Errno 2] No such file or directory: 'image_path'",
     "output_type": "error",
     "traceback": [
      "\u001b[0;31m---------------------------------------------------------------------------\u001b[0m",
      "\u001b[0;31mFileNotFoundError\u001b[0m                         Traceback (most recent call last)",
      "\u001b[1;32m/home/jkalkhof_locale/Documents/GitHub/NCA/train_Backbone2D_NCA.ipynb Cell 8\u001b[0m in \u001b[0;36m<cell line: 5>\u001b[0;34m()\u001b[0m\n\u001b[1;32m      <a href='vscode-notebook-cell://ssh-remote%2B7b22686f73744e616d65223a22504333313130227d/home/jkalkhof_locale/Documents/GitHub/NCA/train_Backbone2D_NCA.ipynb#X10sdnNjb2RlLXJlbW90ZQ%3D%3D?line=2'>3</a>\u001b[0m ca \u001b[39m=\u001b[39m BackboneNCA(config[\u001b[39m0\u001b[39m][\u001b[39m'\u001b[39m\u001b[39mchannel_n\u001b[39m\u001b[39m'\u001b[39m], config[\u001b[39m0\u001b[39m][\u001b[39m'\u001b[39m\u001b[39mcell_fire_rate\u001b[39m\u001b[39m'\u001b[39m], device, hidden_size\u001b[39m=\u001b[39mconfig[\u001b[39m0\u001b[39m][\u001b[39m'\u001b[39m\u001b[39mhidden_size\u001b[39m\u001b[39m'\u001b[39m], input_channels\u001b[39m=\u001b[39mconfig[\u001b[39m0\u001b[39m][\u001b[39m'\u001b[39m\u001b[39minput_channels\u001b[39m\u001b[39m'\u001b[39m])\u001b[39m.\u001b[39mto(device)\n\u001b[1;32m      <a href='vscode-notebook-cell://ssh-remote%2B7b22686f73744e616d65223a22504333313130227d/home/jkalkhof_locale/Documents/GitHub/NCA/train_Backbone2D_NCA.ipynb#X10sdnNjb2RlLXJlbW90ZQ%3D%3D?line=3'>4</a>\u001b[0m agent \u001b[39m=\u001b[39m Agent_NCA(ca)\n\u001b[0;32m----> <a href='vscode-notebook-cell://ssh-remote%2B7b22686f73744e616d65223a22504333313130227d/home/jkalkhof_locale/Documents/GitHub/NCA/train_Backbone2D_NCA.ipynb#X10sdnNjb2RlLXJlbW90ZQ%3D%3D?line=4'>5</a>\u001b[0m exp \u001b[39m=\u001b[39m Experiment(config, dataset, ca, agent)\n\u001b[1;32m      <a href='vscode-notebook-cell://ssh-remote%2B7b22686f73744e616d65223a22504333313130227d/home/jkalkhof_locale/Documents/GitHub/NCA/train_Backbone2D_NCA.ipynb#X10sdnNjb2RlLXJlbW90ZQ%3D%3D?line=5'>6</a>\u001b[0m dataset\u001b[39m.\u001b[39mset_experiment(exp)\n\u001b[1;32m      <a href='vscode-notebook-cell://ssh-remote%2B7b22686f73744e616d65223a22504333313130227d/home/jkalkhof_locale/Documents/GitHub/NCA/train_Backbone2D_NCA.ipynb#X10sdnNjb2RlLXJlbW90ZQ%3D%3D?line=6'>7</a>\u001b[0m exp\u001b[39m.\u001b[39mset_model_state(\u001b[39m'\u001b[39m\u001b[39mtrain\u001b[39m\u001b[39m'\u001b[39m)\n",
      "File \u001b[0;32m~/Documents/GitHub/NCA/src/utils/Experiment.py:25\u001b[0m, in \u001b[0;36mExperiment.__init__\u001b[0;34m(self, config, dataset, model, agent)\u001b[0m\n\u001b[1;32m     23\u001b[0m     \u001b[39mself\u001b[39m\u001b[39m.\u001b[39mreload()\n\u001b[1;32m     24\u001b[0m \u001b[39melse\u001b[39;00m:\n\u001b[0;32m---> 25\u001b[0m     \u001b[39mself\u001b[39;49m\u001b[39m.\u001b[39;49msetup()\n\u001b[1;32m     26\u001b[0m \u001b[39mself\u001b[39m\u001b[39m.\u001b[39mcurrentStep \u001b[39m=\u001b[39m \u001b[39mself\u001b[39m\u001b[39m.\u001b[39mcurrentStep\u001b[39m+\u001b[39m\u001b[39m1\u001b[39m\n\u001b[1;32m     27\u001b[0m \u001b[39mself\u001b[39m\u001b[39m.\u001b[39mset_current_config()\n",
      "File \u001b[0;32m~/Documents/GitHub/NCA/src/utils/Experiment.py:59\u001b[0m, in \u001b[0;36mExperiment.setup\u001b[0;34m(self)\u001b[0m\n\u001b[1;32m     57\u001b[0m os\u001b[39m.\u001b[39mmakedirs(os\u001b[39m.\u001b[39mpath\u001b[39m.\u001b[39mjoin(\u001b[39mself\u001b[39m\u001b[39m.\u001b[39mget_from_config(\u001b[39m'\u001b[39m\u001b[39mmodel_path\u001b[39m\u001b[39m'\u001b[39m), \u001b[39m'\u001b[39m\u001b[39mtensorboard\u001b[39m\u001b[39m'\u001b[39m, os\u001b[39m.\u001b[39mpath\u001b[39m.\u001b[39mbasename(\u001b[39mself\u001b[39m\u001b[39m.\u001b[39mget_from_config(\u001b[39m'\u001b[39m\u001b[39mmodel_path\u001b[39m\u001b[39m'\u001b[39m))), exist_ok\u001b[39m=\u001b[39m\u001b[39mTrue\u001b[39;00m)\n\u001b[1;32m     58\u001b[0m \u001b[39m# Create basic configuration\u001b[39;00m\n\u001b[0;32m---> 59\u001b[0m \u001b[39mself\u001b[39m\u001b[39m.\u001b[39mdata_split \u001b[39m=\u001b[39m \u001b[39mself\u001b[39;49m\u001b[39m.\u001b[39;49mnew_datasplit()\n\u001b[1;32m     60\u001b[0m dump_pickle_file(\u001b[39mself\u001b[39m\u001b[39m.\u001b[39mdata_split, os\u001b[39m.\u001b[39mpath\u001b[39m.\u001b[39mjoin(\u001b[39mself\u001b[39m\u001b[39m.\u001b[39mconfig[\u001b[39m'\u001b[39m\u001b[39mmodel_path\u001b[39m\u001b[39m'\u001b[39m], \u001b[39m'\u001b[39m\u001b[39mdata_split.dt\u001b[39m\u001b[39m'\u001b[39m))\n\u001b[1;32m     61\u001b[0m dump_json_file(\u001b[39mself\u001b[39m\u001b[39m.\u001b[39mprojectConfig, os\u001b[39m.\u001b[39mpath\u001b[39m.\u001b[39mjoin(\u001b[39mself\u001b[39m\u001b[39m.\u001b[39mconfig[\u001b[39m'\u001b[39m\u001b[39mmodel_path\u001b[39m\u001b[39m'\u001b[39m], \u001b[39m'\u001b[39m\u001b[39mconfig.dt\u001b[39m\u001b[39m'\u001b[39m))\n",
      "File \u001b[0;32m~/Documents/GitHub/NCA/src/utils/Experiment.py:64\u001b[0m, in \u001b[0;36mExperiment.new_datasplit\u001b[0;34m(self)\u001b[0m\n\u001b[1;32m     63\u001b[0m \u001b[39mdef\u001b[39;00m \u001b[39mnew_datasplit\u001b[39m(\u001b[39mself\u001b[39m):\n\u001b[0;32m---> 64\u001b[0m     \u001b[39mreturn\u001b[39;00m DataSplit(\u001b[39mself\u001b[39;49m\u001b[39m.\u001b[39;49mconfig[\u001b[39m'\u001b[39;49m\u001b[39mimg_path\u001b[39;49m\u001b[39m'\u001b[39;49m], \u001b[39mself\u001b[39;49m\u001b[39m.\u001b[39;49mconfig[\u001b[39m'\u001b[39;49m\u001b[39mlabel_path\u001b[39;49m\u001b[39m'\u001b[39;49m], data_split \u001b[39m=\u001b[39;49m \u001b[39mself\u001b[39;49m\u001b[39m.\u001b[39;49mconfig[\u001b[39m'\u001b[39;49m\u001b[39mdata_split\u001b[39;49m\u001b[39m'\u001b[39;49m], dataset \u001b[39m=\u001b[39;49m \u001b[39mself\u001b[39;49m\u001b[39m.\u001b[39;49mdataset)\n",
      "File \u001b[0;32m~/Documents/GitHub/NCA/src/utils/Experiment.py:210\u001b[0m, in \u001b[0;36mDataSplit.__init__\u001b[0;34m(self, path_image, path_label, data_split, dataset)\u001b[0m\n\u001b[1;32m    209\u001b[0m \u001b[39mdef\u001b[39;00m \u001b[39m__init__\u001b[39m(\u001b[39mself\u001b[39m, path_image, path_label, data_split, dataset):\n\u001b[0;32m--> 210\u001b[0m     \u001b[39mself\u001b[39m\u001b[39m.\u001b[39mimages \u001b[39m=\u001b[39m \u001b[39mself\u001b[39m\u001b[39m.\u001b[39msplit_files(\u001b[39mself\u001b[39;49m\u001b[39m.\u001b[39;49mgetFilesInFolder(path_image, dataset), data_split)\n\u001b[1;32m    211\u001b[0m     \u001b[39mself\u001b[39m\u001b[39m.\u001b[39mlabels \u001b[39m=\u001b[39m \u001b[39mself\u001b[39m\u001b[39m.\u001b[39msplit_files(\u001b[39mself\u001b[39m\u001b[39m.\u001b[39mgetFilesInFolder(path_label, dataset), data_split)\n",
      "File \u001b[0;32m~/Documents/GitHub/NCA/src/utils/Experiment.py:262\u001b[0m, in \u001b[0;36mDataSplit.getFilesInFolder\u001b[0;34m(self, path, dataset)\u001b[0m\n\u001b[1;32m    256\u001b[0m \u001b[39mdef\u001b[39;00m \u001b[39mgetFilesInFolder\u001b[39m(\u001b[39mself\u001b[39m, path, dataset):\n\u001b[1;32m    257\u001b[0m     \u001b[39mr\u001b[39m\u001b[39m\"\"\"Get files in folder\u001b[39;00m\n\u001b[1;32m    258\u001b[0m \u001b[39m        #Args\u001b[39;00m\n\u001b[1;32m    259\u001b[0m \u001b[39m            path (String): Path to folder\u001b[39;00m\n\u001b[1;32m    260\u001b[0m \u001b[39m            dataset (Dataset)\u001b[39;00m\n\u001b[1;32m    261\u001b[0m \u001b[39m    \"\"\"\u001b[39;00m\n\u001b[0;32m--> 262\u001b[0m     \u001b[39mreturn\u001b[39;00m  dataset\u001b[39m.\u001b[39;49mgetFilesInPath(path)\n",
      "File \u001b[0;32m~/Documents/GitHub/NCA/src/datasets/Nii_Gz_Dataset_3D.py:22\u001b[0m, in \u001b[0;36mDataset_NiiGz_3D.getFilesInPath\u001b[0;34m(self, path)\u001b[0m\n\u001b[1;32m     15\u001b[0m \u001b[39mdef\u001b[39;00m \u001b[39mgetFilesInPath\u001b[39m(\u001b[39mself\u001b[39m, path):\n\u001b[1;32m     16\u001b[0m     \u001b[39mr\u001b[39m\u001b[39m\"\"\"Get files in path ordered by id and slice\u001b[39;00m\n\u001b[1;32m     17\u001b[0m \u001b[39m        #Args\u001b[39;00m\n\u001b[1;32m     18\u001b[0m \u001b[39m            path (string): The path which should be worked through\u001b[39;00m\n\u001b[1;32m     19\u001b[0m \u001b[39m        #Returns:\u001b[39;00m\n\u001b[1;32m     20\u001b[0m \u001b[39m            dic (dictionary): {key:patientID, {key:sliceID, img_slice}\u001b[39;00m\n\u001b[1;32m     21\u001b[0m \u001b[39m    \"\"\"\u001b[39;00m\n\u001b[0;32m---> 22\u001b[0m     dir_files \u001b[39m=\u001b[39m os\u001b[39m.\u001b[39;49mlistdir(os\u001b[39m.\u001b[39;49mpath\u001b[39m.\u001b[39;49mjoin(path))\n\u001b[1;32m     23\u001b[0m     dic \u001b[39m=\u001b[39m {}\n\u001b[1;32m     24\u001b[0m     \u001b[39mfor\u001b[39;00m id_f, f \u001b[39min\u001b[39;00m \u001b[39menumerate\u001b[39m(dir_files):\n",
      "\u001b[0;31mFileNotFoundError\u001b[0m: [Errno 2] No such file or directory: 'image_path'"
     ]
    }
   ],
   "source": [
    "dataset = Dataset_NiiGz_3D(slice=2)\n",
    "device = torch.device(config[0]['device'])\n",
    "ca = BackboneNCA(config[0]['channel_n'], config[0]['cell_fire_rate'], device, hidden_size=config[0]['hidden_size'], input_channels=config[0]['input_channels']).to(device)\n",
    "agent = Agent_NCA(ca)\n",
    "exp = Experiment(config, dataset, ca, agent)\n",
    "dataset.set_experiment(exp)\n",
    "exp.set_model_state('train')\n",
    "data_loader = torch.utils.data.DataLoader(dataset, shuffle=True, batch_size=exp.get_from_config('batch_size'))\n",
    "\n",
    "loss_function = DiceBCELoss() "
   ]
  },
  {
   "attachments": {},
   "cell_type": "markdown",
   "metadata": {},
   "source": [
    "## _4. Run training_"
   ]
  },
  {
   "cell_type": "code",
   "execution_count": null,
   "metadata": {},
   "outputs": [],
   "source": [
    "agent.train(data_loader, loss_function)"
   ]
  },
  {
   "attachments": {},
   "cell_type": "markdown",
   "metadata": {},
   "source": [
    "## _5. Evaluate test data_"
   ]
  },
  {
   "cell_type": "code",
   "execution_count": null,
   "metadata": {},
   "outputs": [],
   "source": [
    "agent.getAverageDiceScore()"
   ]
  }
 ],
 "metadata": {
  "kernelspec": {
   "display_name": "NCA",
   "language": "python",
   "name": "python3"
  },
  "language_info": {
   "codemirror_mode": {
    "name": "ipython",
    "version": 3
   },
   "file_extension": ".py",
   "mimetype": "text/x-python",
   "name": "python",
   "nbconvert_exporter": "python",
   "pygments_lexer": "ipython3",
   "version": "3.8.13"
  },
  "orig_nbformat": 4,
  "vscode": {
   "interpreter": {
    "hash": "c6635efb78202fbdfae87e948587324e55e71e265e0cd827d1e5c05e66be9040"
   }
  }
 },
 "nbformat": 4,
 "nbformat_minor": 2
}
